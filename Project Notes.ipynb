{
 "cells": [
  {
   "cell_type": "markdown",
   "metadata": {},
   "source": [
    "### Project References\n",
    "\n",
    "https://einstein.ai/static/images/pages/research/decaNLP/decaNLP.pdf - decaNLP\n",
    "https://arxiv.org/pdf/1611.01576.pdf - QRNN\n",
    "https://arxiv.org/abs/1902.02783 - \n",
    "\n",
    "Basic Sentiment analysis:\n",
    "http://www.aclweb.org/anthology/P02-1053.pdf\n",
    "http://citeseerx.ist.psu.edu/viewdoc/download?doi=10.1.1.147.1344&rep=rep1&type=pdf\n",
    "https://www.ijert.org/research/a-survey-on-various-approaches-for-sentiment-analysis-and-performance-optimization-IJERTV6IS040525.pdf\n",
    "https://pdfs.semanticscholar.org/a65e/07deebf8a4e733ae5d9970d53e8555e948f0.pdf\n",
    "http://people.cs.pitt.edu/~wiebe/pubs/papers/somasundaranThesis.pdf\n",
    "http://www.coep.org.in/page_assets/341/121222013-DoddiKiran.pdf\n",
    "\n",
    "Applications/examples:\n",
    "Algorithmic trading: https://towardsdatascience.com/https-towardsdatascience-com-algorithmic-trading-using-sentiment-analysis-on-news-articles-83db77966704\n",
    "ascribe.com products: https://goascribe.com/products-services/ascribe-cx-snapshot/"
   ]
  }
 ],
 "metadata": {
  "kernelspec": {
   "display_name": "Python 3",
   "language": "python",
   "name": "python3"
  },
  "language_info": {
   "codemirror_mode": {
    "name": "ipython",
    "version": 3
   },
   "file_extension": ".py",
   "mimetype": "text/x-python",
   "name": "python",
   "nbconvert_exporter": "python",
   "pygments_lexer": "ipython3",
   "version": "3.6.4"
  }
 },
 "nbformat": 4,
 "nbformat_minor": 2
}
